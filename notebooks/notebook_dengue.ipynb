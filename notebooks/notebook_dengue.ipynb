{
 "cells": [
  {
   "cell_type": "markdown",
   "id": "337d9eea",
   "metadata": {},
   "source": [
    "# Analise da base do DataSUS sobre casos de dengue no primeiro semestre de 2025\n",
    "Buscamos a base com dados de dengue do portal [https://opendatasus.saude.gov.br/gl/dataset/arboviroses-dengue](https://opendatasus.saude.gov.br/gl/dataset/arboviroses-dengue/resource/5c9132a9-77c2-4b15-8afc-a43c58fc9ec0?inner_span=True)\n",
    "\n",
    "O Dataset contém dados de casos de dengue coletados na primeira metade de 2025.\n",
    "\n",
    "Com base nessas informações queremos responder as seguintes perguntas:\n",
    "\n",
    "1. Se existe relação entre o municipio em que uma pessoa mora com a probabilidade de contrair dengue?\n",
    "2. Quais sintomas estão mais relacionados a dengue? \n",
    "\n",
    "Ao final, avaliaremos qual modelo é melhor para ajudar médicos na detecção de possíveis casos de Dengue e seu tipo."
   ]
  },
  {
   "cell_type": "code",
   "execution_count": null,
   "id": "6edc4508",
   "metadata": {},
   "outputs": [],
   "source": [
    "import pandas as pd\n",
    "import numpy as np\n",
    "import matplotlib.pyplot as plt\n",
    "import seaborn as sns"
   ]
  },
  {
   "cell_type": "code",
   "execution_count": null,
   "id": "d03b804e",
   "metadata": {},
   "outputs": [],
   "source": [
    "\n",
    "pd.set_option('display.max_columns', None)  # Mostra todas as colunas\n",
    "pd.set_option('display.expand_frame_repr', False) \n",
    "\n",
    "df = pd.read_csv(\"dados_dengue.csv\")\n",
    "df.head()"
   ]
  },
  {
   "cell_type": "markdown",
   "id": "081737b6",
   "metadata": {},
   "source": [
    "# Análise das caracteristicas da base"
   ]
  },
  {
   "cell_type": "code",
   "execution_count": null,
   "id": "5648894a",
   "metadata": {},
   "outputs": [],
   "source": [
    "df.shape"
   ]
  },
  {
   "cell_type": "code",
   "execution_count": null,
   "id": "b00e38b7",
   "metadata": {},
   "outputs": [],
   "source": [
    "df.describe()"
   ]
  },
  {
   "cell_type": "code",
   "execution_count": null,
   "id": "23064512",
   "metadata": {},
   "outputs": [],
   "source": [
    "df.info()"
   ]
  },
  {
   "cell_type": "code",
   "execution_count": null,
   "id": "cb09351c",
   "metadata": {},
   "outputs": [],
   "source": [
    "for coluna in df.columns:\n",
    "    tipo = df[coluna].dtypes\n",
    "    print(f'{coluna}: {tipo}')"
   ]
  },
  {
   "cell_type": "markdown",
   "id": "c6ae3add",
   "metadata": {},
   "source": [
    "Como a base é bastante extensa e com muitas colunas selecionamos as colunas que aparentemente estão mais relacionadas a nossa hipótese.\n",
    "Neste caso selecionamos a coluna **CLASSI_FIN** como target, pois ela se a classificação final do caso.\n",
    "\n",
    "Além dela selecionamos as colunas:\n",
    "\n",
    "- 'FEBRE' \n",
    "- 'MIALGIA' \n",
    "- 'CEFALEIA'\n",
    "- 'EXANTEMA'\n",
    "- 'VOMITO'\n",
    "- 'NAUSEA'\n",
    "- 'DOR_COSTAS'\n",
    "- 'CONJUNTVIT'\n",
    "- 'ARTRITE'\n",
    "- 'ARTRALGIA'\n",
    "- 'PETEQUIA_N'\n",
    "- 'PETEQUIA_N'\n",
    "- 'LACO' \n",
    "- 'DOR_RETRO'\n"
   ]
  },
  {
   "cell_type": "code",
   "execution_count": null,
   "id": "18357b1b",
   "metadata": {},
   "outputs": [],
   "source": [
    "sintomas = ['FEBRE', 'MIALGIA', 'CEFALEIA', 'EXANTEMA', 'VOMITO', 'NAUSEA', 'DOR_COSTAS', 'CONJUNTVIT', 'ARTRITE', 'ARTRALGIA', 'PETEQUIA_N', 'LACO', 'DOR_RETRO']"
   ]
  },
  {
   "cell_type": "markdown",
   "id": "3f7b9169",
   "metadata": {},
   "source": [
    "\n",
    "Essas colunas indicam quais sistomas o paciente apresentava no momento da investigação, seus valores são:\n",
    "1. Sim \n",
    "2. Não\n",
    "\n",
    "Por fim selecionamos a coluna **ID_MUNICIP** que se refere ao Cód. do município onde está localizada a unidade de saúde (ou outra fonte notificadora) que realizou a notificação. O nome está associado ao código na tabela de municípios.\n",
    "\n"
   ]
  },
  {
   "cell_type": "code",
   "execution_count": null,
   "id": "8c68b4dd",
   "metadata": {},
   "outputs": [],
   "source": [
    "df = df[['CLASSI_FIN', 'ID_MUNICIP', 'FEBRE', 'MIALGIA', 'CEFALEIA', 'EXANTEMA', 'VOMITO', 'NAUSEA', 'DOR_COSTAS', 'CONJUNTVIT', 'ARTRITE', 'ARTRALGIA', 'PETEQUIA_N', 'LACO', 'DOR_RETRO']]\n",
    "df.head()"
   ]
  },
  {
   "cell_type": "code",
   "execution_count": null,
   "id": "1a31bd63",
   "metadata": {},
   "outputs": [],
   "source": [
    "df['CLASSI_FIN'].value_counts()"
   ]
  },
  {
   "cell_type": "markdown",
   "id": "da2a7eca",
   "metadata": {},
   "source": [
    "Os valores dessa coluna representam as seguintes informações:\n",
    "\n",
    "- 10. Dengue\n",
    "- 11. Dengue com sinais de alarme\n",
    "- 12. Dengue grave\n",
    "- 8. Descartado"
   ]
  },
  {
   "cell_type": "markdown",
   "id": "209cc737",
   "metadata": {},
   "source": [
    "# Analise dos Dados"
   ]
  },
  {
   "cell_type": "code",
   "execution_count": null,
   "id": "88edde36",
   "metadata": {},
   "outputs": [],
   "source": [
    "colunas_numericas = df.select_dtypes(include=['float64', 'int64']).columns\n",
    "plt.figure(figsize=(20, 15))\n",
    "\n",
    "for i, coluna in enumerate(colunas_numericas, 1):\n",
    "    plt.subplot(4, 5, i)  # Ajuste o layout conforme o número de colunas\n",
    "    sns.histplot(df[coluna], kde=True, bins=30, color='orange') # type: ignore\n",
    "    plt.title(f'Distribuição de {coluna}')\n",
    "    plt.xlabel(df[coluna].name)\n",
    "    plt.ylabel('Frequência')\n",
    "\n",
    "plt.tight_layout()\n",
    "plt.show()"
   ]
  },
  {
   "cell_type": "markdown",
   "id": "88212c71",
   "metadata": {},
   "source": [
    "Mapemos a correlação das variaveis e o mapa de calor"
   ]
  },
  {
   "cell_type": "code",
   "execution_count": null,
   "id": "6342b422",
   "metadata": {},
   "outputs": [],
   "source": [
    "plt.figure(figsize=(14, 12)) #ajusta o tamanho \n",
    "\n",
    "sns.heatmap(df.corr(), \n",
    "            cmap='coolwarm',      # Define o esquema de cores (azul para correlações negativas, vermelho para positivas)\n",
    "            annot=True,           # Adicionar valores numéricos\n",
    "            fmt=\".2f\",            # Formato com 2 casas decimais\n",
    "            linewidths=0.5,       # Adicionar linhas entre células\n",
    "            cbar_kws={'shrink': 0.8}  # Ajustar barra de cores\n",
    "            )\n",
    "\n",
    "plt.xticks(rotation=45, ha='right')  # Coloca os nomes do campos do eixo x 45 graus\n",
    "plt.yticks(rotation=0)  # Coloca os nomes do campos do eixo y na horizontal\n",
    "plt.tight_layout()      # Ajustar layout automaticamente, evitar que título ou legendas sejam cortados nas bordas\n",
    "plt.title('Matriz de Correlação entre Variáveis', fontsize=14)\n",
    "plt.show()"
   ]
  },
  {
   "cell_type": "markdown",
   "id": "cb31b5c6",
   "metadata": {},
   "source": [
    "Usando a correlação comum as variaves não parecem estar correlacionadas individualmente com o nosso target.\n",
    "Pesquisando descobrimos que quando suas variáveis são categóricas (tipo “febre”, “dor”, “positivo”), a correlação tradicional (como .corr() do pandas) não funciona bem — porque ela mede relação linear entre variáveis numéricas continuas. Mas existem outras formas de avaliar a associação entre duas variáveis categóricas.\n",
    "\n",
    "Nesse caso escolhemos o **Qui-quadrado de independência** que é uma ferramenta estatística usada para verificar se existe alguma associação entre duas variáveis categóricas. Ele responde à pergunta: \"Será que essas variáveis estão relacionadas ou são independentes?\""
   ]
  },
  {
   "cell_type": "markdown",
   "id": "b334d15b",
   "metadata": {},
   "source": [
    "# Testes Qui-quadrado (independência)\n",
    "\n",
    "Se o p-valor for < 0.05, indica associação estatística significativa."
   ]
  },
  {
   "cell_type": "code",
   "execution_count": null,
   "id": "9cfad0e0",
   "metadata": {},
   "outputs": [],
   "source": [
    "from scipy.stats import chi2_contingency\n",
    "\n",
    "alpha = 0.05\n",
    "for coluna in df.columns:\n",
    "    tabela = pd.crosstab(df[coluna], df['CLASSI_FIN'])\n",
    "    chi2, p, dof, expected = chi2_contingency(tabela)\n",
    "    # Compare the p-value to the significance level\n",
    "    print(f\"p-valor `{coluna}`: {p}\")"
   ]
  },
  {
   "cell_type": "markdown",
   "id": "811bdcc7",
   "metadata": {},
   "source": [
    "Pelo teste de Qui-quadrado parece que 'ID_MUNICIP', 'FEBRE', 'MIALGIA', 'CEFALEIA' e 'VOMITO' estão relacionadas com a classificação final da doença no dataframe onde ons nulos foram removidos.\n",
    "Ja no dataframe preenchido com a moda 'ID_MUNICIP', 'VOMITO', 'NAUSEA', 'DOR_COSTAS', 'ARTRITE' e 'DOR_RETRO' são as colunas relacionadas."
   ]
  },
  {
   "cell_type": "markdown",
   "id": "fdbea18b",
   "metadata": {},
   "source": [
    "# Normalizar dos dados\n"
   ]
  },
  {
   "cell_type": "markdown",
   "id": "fd692d65",
   "metadata": {},
   "source": [
    "Primeiro verificamos se existem valores nulos na base."
   ]
  },
  {
   "cell_type": "code",
   "execution_count": null,
   "id": "8448c4d6",
   "metadata": {},
   "outputs": [],
   "source": [
    "df.isnull().sum()"
   ]
  },
  {
   "cell_type": "markdown",
   "id": "831addcf",
   "metadata": {},
   "source": [
    "Nesse caso decidimos remover os nulo da nossa variavel target, pois é um dado categórico e queremos que ele condiza com a realiadade. Usar técnicas para preenche-lo poderia causar variações no resultado da predição."
   ]
  },
  {
   "cell_type": "code",
   "execution_count": null,
   "id": "34338258",
   "metadata": {},
   "outputs": [],
   "source": [
    "df = df.dropna()\n",
    "print(df.isnull().sum())\n",
    "print(df.shape)"
   ]
  },
  {
   "cell_type": "markdown",
   "id": "f6301fae",
   "metadata": {},
   "source": [
    "Segundo vamos transformar todas as colunas do dataframe em tipo inteiro para melhor representar os dados."
   ]
  },
  {
   "cell_type": "code",
   "execution_count": null,
   "id": "5112345c",
   "metadata": {},
   "outputs": [],
   "source": [
    "for coluna in df.columns:\n",
    "    df[coluna] = df[coluna].fillna(0).astype(int)\n",
    "df.head()"
   ]
  },
  {
   "cell_type": "markdown",
   "id": "c0207acc",
   "metadata": {},
   "source": [
    "Como os sintomas são na verdade valores booleanos realizamos a normalização dos valores '2' para '0' para que eles fiquem em escala binária."
   ]
  },
  {
   "cell_type": "code",
   "execution_count": null,
   "id": "72697739",
   "metadata": {},
   "outputs": [],
   "source": [
    "for sintoma in sintomas:\n",
    "    df.loc[df[sintoma] == 2, sintoma] = 0\n",
    "df.head()"
   ]
  },
  {
   "cell_type": "markdown",
   "id": "26c6484c",
   "metadata": {},
   "source": [
    "Como os valores 10, 11, 12 da coluna **CLASSI_FIN** representam que o paciente tem dengue e o valor 8 que não tem. Vamos colocar essa coluna em escala binário também."
   ]
  },
  {
   "cell_type": "code",
   "execution_count": null,
   "id": "e6bfb957",
   "metadata": {},
   "outputs": [],
   "source": [
    "df.loc[df['CLASSI_FIN'] == 10, 'CLASSI_FIN'] = 1\n",
    "df.loc[df['CLASSI_FIN'] == 11, 'CLASSI_FIN'] = 1\n",
    "df.loc[df['CLASSI_FIN'] == 12, 'CLASSI_FIN'] = 1\n",
    "df.loc[df['CLASSI_FIN'] == 8, 'CLASSI_FIN'] = 0\n",
    "df.head(10)"
   ]
  },
  {
   "cell_type": "markdown",
   "id": "41210303",
   "metadata": {},
   "source": [
    "# Treino e Avaliação dos Modelos"
   ]
  },
  {
   "cell_type": "markdown",
   "id": "1e314f9b",
   "metadata": {},
   "source": [
    "Separação base de treino e teste"
   ]
  },
  {
   "cell_type": "code",
   "execution_count": null,
   "id": "c84c492e",
   "metadata": {},
   "outputs": [],
   "source": [
    "from sklearn.model_selection import train_test_split\n",
    "\n",
    "\n",
    "x = df[['ID_MUNICIP', 'FEBRE', 'MIALGIA', 'CEFALEIA', 'VOMITO']]\n",
    "y = df['CLASSI_FIN']\n",
    "     \n",
    "\n",
    "x_train, x_test, y_train, y_test = train_test_split(x, y, test_size=0.2, stratify=y,\n",
    "                                                    random_state=42)\n",
    "     \n",
    "\n",
    "print(\"Total base de treino: \", len(x_train))\n",
    "print(\"Total base de teste: \", len(y_test))"
   ]
  },
  {
   "cell_type": "code",
   "execution_count": null,
   "id": "69840526",
   "metadata": {},
   "outputs": [],
   "source": [
    "from sklearn.ensemble import RandomForestClassifier, GradientBoostingClassifier\n",
    "from sklearn.linear_model import LogisticRegression\n",
    "from sklearn.neighbors import KNeighborsClassifier\n",
    "from sklearn.metrics import (accuracy_score, classification_report, confusion_matrix, \n",
    "                            roc_curve, auc, precision_recall_curve) \n",
    "\n",
    "models = {\n",
    "    'Logistic Regression': LogisticRegression(max_iter=1000, random_state=42),\n",
    "    'Random Forest': RandomForestClassifier(n_estimators=100, random_state=42),\n",
    "    'Gradient Boosting': GradientBoostingClassifier(n_estimators=100, random_state=42),\n",
    "    'KNN': KNeighborsClassifier(n_neighbors=5)\n",
    "}\n",
    "\n",
    "resultados = {}\n",
    "for nome, modelo in models.items():\n",
    "    print(f\"\\nTreinando modelo: {nome}\")\n",
    "\n",
    "    modelo.fit(x_train, y_train)\n",
    "\n",
    "    y_pred = modelo.predict(x_test)\n",
    "    \n",
    "    # Calculando métricas\n",
    "    acuracia = accuracy_score(y_test, y_pred)\n",
    "    report = classification_report(y_test, y_pred, output_dict=True)\n",
    "    \n",
    "    # Armazenando resultados\n",
    "    resultados[nome] = {\n",
    "        'acuracia': acuracia,\n",
    "        'report': report,\n",
    "        'modelo': modelo,\n",
    "        'predicoes': y_pred\n",
    "    }\n",
    "    \n",
    "    print(f\"Acurácia: {acuracia:.4f}\")\n",
    "    print(\"\\nClassification Report:\")\n",
    "    print(classification_report(y_test, y_pred))"
   ]
  },
  {
   "cell_type": "code",
   "execution_count": null,
   "id": "b312eabe",
   "metadata": {},
   "outputs": [],
   "source": [
    "import pickle\n",
    "\n",
    "with open('model.pkl', 'wb') as arquivo:\n",
    "    pickle.dump(resultados[\"KNN\"][\"modelo\"], arquivo)"
   ]
  },
  {
   "cell_type": "markdown",
   "id": "0d581eaa",
   "metadata": {},
   "source": [
    "A acuracia está boa, mas a precisão não. Vamos aplicar oversampling para os casos de não dengue."
   ]
  },
  {
   "cell_type": "code",
   "execution_count": null,
   "id": "4ef38151",
   "metadata": {},
   "outputs": [],
   "source": [
    "\n",
    "\n",
    "from imblearn.over_sampling import SMOTE\n",
    "     \n",
    "\n",
    "# Aplicar SMOTE para oversampling da classe minoritária\n",
    "oversample = SMOTE()\n",
    "x_train_os, y_train_os = oversample.fit_resample(x_train, y_train)\n",
    "     \n",
    "print(\"Total base de treino: \", len(x_train))\n",
    "print(\"Total base de teste: \", len(y_test))\n",
    "\n",
    "print(\"Total base de treino oversampling: \", len(x_train_os))\n",
    "print(\"Total base de teste oversampling: \", len(y_train_os))"
   ]
  },
  {
   "cell_type": "code",
   "execution_count": null,
   "id": "160e53b9",
   "metadata": {},
   "outputs": [],
   "source": [
    "from sklearn.ensemble import RandomForestClassifier, GradientBoostingClassifier\n",
    "from sklearn.linear_model import LogisticRegression\n",
    "from sklearn.neighbors import KNeighborsClassifier\n",
    "from sklearn.metrics import (accuracy_score, classification_report, confusion_matrix, \n",
    "                            roc_curve, auc, precision_recall_curve) \n",
    "\n",
    "models = {\n",
    "    'Logistic Regression': LogisticRegression(max_iter=1000, random_state=42),\n",
    "    'Random Forest': RandomForestClassifier(n_estimators=100, random_state=42),\n",
    "    'Gradient Boosting': GradientBoostingClassifier(n_estimators=100, random_state=42),\n",
    "    'KNN': KNeighborsClassifier(n_neighbors=5)\n",
    "}\n",
    "\n",
    "resultados = {}\n",
    "for nome, modelo in models.items():\n",
    "    print(f\"\\nTreinando modelo: {nome}\")\n",
    "\n",
    "    modelo.fit(x_train_os, y_train_os)\n",
    "\n",
    "    y_pred = modelo.predict(x_test)\n",
    "    \n",
    "    # Calculando métricas\n",
    "    acuracia = accuracy_score(y_test, y_pred)\n",
    "    report = classification_report(y_test, y_pred, output_dict=True)\n",
    "    \n",
    "    # Armazenando resultados\n",
    "    resultados[nome] = {\n",
    "        'acuracia': acuracia,\n",
    "        'report': report,\n",
    "        'modelo': modelo,\n",
    "        'predicoes': y_pred\n",
    "    }\n",
    "    \n",
    "    print(f\"Acurácia: {acuracia:.4f}\")\n",
    "    print(\"\\nClassification Report:\")\n",
    "    print(classification_report(y_test, y_pred))"
   ]
  },
  {
   "cell_type": "markdown",
   "id": "e9129d8b",
   "metadata": {},
   "source": [
    "KNN foi o algoritmo que se comportou melhor. Mas vamos testar os hiperparametros para otimiza-lo."
   ]
  },
  {
   "cell_type": "code",
   "execution_count": null,
   "id": "5e78076d",
   "metadata": {},
   "outputs": [],
   "source": [
    "error = [] #armazenar os erros\n",
    "\n",
    "# Calculating error for K values between 1 and 15\n",
    "for i in range(1, 15):\n",
    "    knn = KNeighborsClassifier(n_neighbors=i)\n",
    "    knn.fit(x_train_os, y_train_os)\n",
    "    pred_i = knn.predict(x_test)\n",
    "    error.append(np.mean(pred_i != y_test))"
   ]
  },
  {
   "cell_type": "code",
   "execution_count": null,
   "id": "3bc2d8e3",
   "metadata": {},
   "outputs": [],
   "source": [
    "\n",
    "\n",
    "plt.figure(figsize=(12, 6))\n",
    "plt.plot(range(1, 15), error, color='red', linestyle='dashed', marker='o',\n",
    "         markerfacecolor='blue', markersize=10)\n",
    "plt.title('Error Rate K Value')\n",
    "plt.xlabel('K Value')\n",
    "plt.ylabel('Mean Error')\n",
    "\n"
   ]
  },
  {
   "cell_type": "code",
   "execution_count": null,
   "id": "8e414a7f",
   "metadata": {},
   "outputs": [],
   "source": [
    "knn = KNeighborsClassifier(n_neighbors=13)\n",
    "knn.fit(x_train_os, y_train_os)\n",
    "y_pred = knn.predict(x_test)\n",
    "acuracia = accuracy_score(y_test, y_pred)\n",
    "report = classification_report(y_test, y_pred, output_dict=True)"
   ]
  },
  {
   "cell_type": "code",
   "execution_count": null,
   "id": "a6c35d2b",
   "metadata": {},
   "outputs": [],
   "source": [
    "print(f\"Acurácia: {acuracia:.4f}\")\n",
    "print(\"\\nClassification Report:\")\n",
    "print(classification_report(y_test, y_pred))"
   ]
  }
 ],
 "metadata": {
  "kernelspec": {
   "display_name": "Python 3",
   "language": "python",
   "name": "python3"
  },
  "language_info": {
   "codemirror_mode": {
    "name": "ipython",
    "version": 3
   },
   "file_extension": ".py",
   "mimetype": "text/x-python",
   "name": "python",
   "nbconvert_exporter": "python",
   "pygments_lexer": "ipython3",
   "version": "3.13.4"
  }
 },
 "nbformat": 4,
 "nbformat_minor": 5
}
